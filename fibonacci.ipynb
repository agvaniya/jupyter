{
 "cells": [
  {
   "cell_type": "code",
   "execution_count": 55,
   "id": "75e38d54-5c0d-46c7-a879-adef73cf9d01",
   "metadata": {},
   "outputs": [],
   "source": [
    "import timeit\n"
   ]
  },
  {
   "cell_type": "markdown",
   "id": "16c75e47-086b-4cbc-ba67-a51c837f32b4",
   "metadata": {},
   "source": [
    "# Fibonacci Sequences\n",
    "$F(n) = F(n-1) + F(n-2)$\n",
    "\n",
    "$F(1) = 1$\n",
    "\n",
    "$F(0) = 1$\n",
    "\n",
    "1, 1, 2, 3, 5, 8, 13, ..."
   ]
  },
  {
   "cell_type": "code",
   "execution_count": 63,
   "id": "eaa08a54-279c-4050-83e9-792353baf97b",
   "metadata": {},
   "outputs": [],
   "source": [
    "def fibonacci(n):\n",
    "    '''calculate fibonacci sequence element n the good old fashioned recursive way'''\n",
    "    if n < 0: \n",
    "        return 0\n",
    "    if n == 0 or n == 1:\n",
    "        return 1\n",
    "    return fibonacci(n-1) + fibonacci(n-2)"
   ]
  },
  {
   "cell_type": "code",
   "execution_count": 57,
   "id": "de437de2-99e6-4ae8-974f-8c53b4def920",
   "metadata": {},
   "outputs": [
    {
     "name": "stdout",
     "output_type": "stream",
     "text": [
      "recursive loop took: 180.45740291999937 uSec\n"
     ]
    }
   ],
   "source": [
    "print(f'recursive loop took: {timeit.timeit(lambda :fibonacci(15))} uSec')"
   ]
  },
  {
   "cell_type": "code",
   "execution_count": 64,
   "id": "5f934847-7a26-47b3-9131-36269496f725",
   "metadata": {},
   "outputs": [],
   "source": [
    "def fibonacci_memoised(n, memory={0:1,1:1}):\n",
    "    '''calculate fibonecci sequence element n using a memoized function'''\n",
    "    if n < 0:\n",
    "        return 0\n",
    "    if n in memory:\n",
    "        return memory[n], memory\n",
    "    \n",
    "    n1,memory = fibonacci_memoised(n-1,memory)\n",
    "    n2,memory = fibonacci_memoised(n-2,memory)\n",
    "    memory[n] = n1+n2\n",
    "    return memory[n],memory\n",
    "        \n",
    "    "
   ]
  },
  {
   "cell_type": "code",
   "execution_count": 59,
   "id": "e33a32bc-d6f3-4038-8a76-1206f6a37484",
   "metadata": {},
   "outputs": [
    {
     "name": "stdout",
     "output_type": "stream",
     "text": [
      "memoised loop took: 0.15539666599943303 uSec\n"
     ]
    }
   ],
   "source": [
    "print(f'memoised loop took: {timeit.timeit(lambda: fibonacci_memoised(15))} uSec')"
   ]
  },
  {
   "cell_type": "code",
   "execution_count": 65,
   "id": "cfb84815-064e-4a7f-a472-5869f57e9e35",
   "metadata": {},
   "outputs": [],
   "source": [
    "def fibonacci_formula(n):\n",
    "    '''calculate fibonacci sequence element n using a closed formula and golden ratio constant''' \n",
    "    sqrt5 = 5**0.5\n",
    "    chi = (1+sqrt5)/2.0\n",
    "    return int((chi**n - (1 - chi)**n)/sqrt5)"
   ]
  },
  {
   "cell_type": "code",
   "execution_count": 61,
   "id": "fc8805f5-3e3e-4ec9-9417-b82996b183f8",
   "metadata": {},
   "outputs": [
    {
     "name": "stdout",
     "output_type": "stream",
     "text": [
      "0\n",
      "1\n",
      "1\n",
      "2\n",
      "3\n",
      "5\n",
      "8\n",
      "13\n",
      "21\n",
      "34\n"
     ]
    }
   ],
   "source": [
    "for i in range(10):\n",
    "    print(fibonacci_formula(i))"
   ]
  },
  {
   "cell_type": "code",
   "execution_count": 62,
   "id": "14e26bc5-a846-488d-b3a3-04e68c7abf21",
   "metadata": {},
   "outputs": [
    {
     "name": "stdout",
     "output_type": "stream",
     "text": [
      "formula took: 0.3208162179998908 uSec\n"
     ]
    }
   ],
   "source": [
    "print(f'formula took: {timeit.timeit(lambda: fibonacci_formula(15))} uSec')"
   ]
  },
  {
   "cell_type": "code",
   "execution_count": null,
   "id": "ba2c2bad-1d4f-439d-b06f-17184cbadfba",
   "metadata": {},
   "outputs": [],
   "source": []
  }
 ],
 "metadata": {
  "kernelspec": {
   "display_name": "Python 3 (ipykernel)",
   "language": "python",
   "name": "python3"
  },
  "language_info": {
   "codemirror_mode": {
    "name": "ipython",
    "version": 3
   },
   "file_extension": ".py",
   "mimetype": "text/x-python",
   "name": "python",
   "nbconvert_exporter": "python",
   "pygments_lexer": "ipython3",
   "version": "3.10.12"
  }
 },
 "nbformat": 4,
 "nbformat_minor": 5
}
