{
 "cells": [
  {
   "cell_type": "markdown",
   "id": "19f8a6d4-7b4f-4418-96d0-eefe0c2fcad7",
   "metadata": {},
   "source": [
    "# Neurons and Neural Networks\n",
    "![title](title.jpg)"
   ]
  },
  {
   "attachments": {},
   "cell_type": "markdown",
   "id": "316e3d0f-ceab-4299-b650-d8f51a89ce7b",
   "metadata": {},
   "source": [
    "## This is a general structure of a biological neuron cell\n",
    "\n",
    "![Neuron](neuron-diagram.jpg)\n",
    "\n",
    "## This is the concept of operation - input, processing, output\n",
    "\n",
    "![Operation](activation-functions.jpg)\n",
    "\n",
    "## How activity looks like\n",
    "\n",
    "![Activity](live_neuron_stages.png)\n",
    "\n",
    "## Artificial neuron\n",
    "\n",
    "![perceptron](Single-Neuron-Activation.svg)\n",
    "\n",
    "### $$Y = f(b+ \\sum_i{x_i \\cdot w_i})$$\n",
    "\n",
    "### Flow\n",
    "\n",
    "1. summ up all the inputs with their respective weights\n",
    "2. add bias\n",
    "3. apply activation function to determine output\n",
    "\n",
    "### Activation functions (tiny subset)\n",
    "\n",
    "![Activation Functions](activation_functions.png)"
   ]
  },
  {
   "cell_type": "markdown",
   "id": "7ccf1560-a2ca-4333-bb8a-35f5af50ace7",
   "metadata": {},
   "source": [
    "## What can a single neuron do?\n",
    "\n",
    "Turns out, quite a bit! (no pun intended)\n",
    "\n",
    "### ✅ Boolean functions:\n",
    "\n",
    "For example - AND gate\n",
    "\n",
    "![AND](and_gate.png)\n",
    "\n",
    "\n",
    "### ✅ Classifying linearly separable groups\n",
    "\n",
    "![classfier](pla2.png)\n",
    "\n",
    "## Single neuron limitations\n",
    "\n",
    "### ❌ Non linear classification\n",
    "\n",
    "![Non linear](linsep_new.png)\n",
    "\n",
    "### ❌ XOR function \n",
    "\n",
    "![xor](bitwise_datasets.png)\n",
    "\n",
    "\n",
    "### To solve the non linear problems we need to go beyond a single neuron\n"
   ]
  },
  {
   "cell_type": "markdown",
   "id": "d6f722b1-93f3-4072-83bc-3c079476d153",
   "metadata": {},
   "source": [
    "## Neural Network\n",
    "\n",
    "interconnected layers of neurons that send signals from one to another\n",
    "\n",
    "![ann](ann.png)\n",
    "\n",
    "$$ Neural Network$$\n",
    "\n",
    "## Signal flow in a neural network\n",
    "\n",
    "### Bilogical\n",
    "\n",
    "![Flow](signal_flow.png)\n",
    "\n",
    "### Artificial\n",
    "![Topology](topology.jpg)\n",
    "\n",
    "### Side by side \n",
    "\n",
    "![network](network.png)\n"
   ]
  },
  {
   "cell_type": "code",
   "execution_count": null,
   "id": "df3670fb-2a69-4710-acdc-395a4f6f61c6",
   "metadata": {},
   "outputs": [],
   "source": []
  }
 ],
 "metadata": {
  "kernelspec": {
   "display_name": "Python 3 (ipykernel)",
   "language": "python",
   "name": "python3"
  },
  "language_info": {
   "codemirror_mode": {
    "name": "ipython",
    "version": 3
   },
   "file_extension": ".py",
   "mimetype": "text/x-python",
   "name": "python",
   "nbconvert_exporter": "python",
   "pygments_lexer": "ipython3",
   "version": "3.11.4"
  },
  "widgets": {
   "application/vnd.jupyter.widget-state+json": {
    "state": {},
    "version_major": 2,
    "version_minor": 0
   }
  }
 },
 "nbformat": 4,
 "nbformat_minor": 5
}
